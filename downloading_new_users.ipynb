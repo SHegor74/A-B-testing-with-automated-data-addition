{
 "cells": [
  {
   "cell_type": "code",
   "execution_count": 10,
   "metadata": {},
   "outputs": [],
   "source": [
    "import pandas as pd\n",
    "import seaborn as sns\n",
    "from matplotlib import pyplot as plt\n",
    "from matplotlib import colors as mcolors\n",
    "import numpy as np\n",
    "from statsmodels.stats.proportion import proportions_ztest\n",
    "from scipy.stats import mannwhitneyu\n"
   ]
  },
  {
   "cell_type": "markdown",
   "metadata": {},
   "source": [
    "### Считываем данные"
   ]
  },
  {
   "cell_type": "code",
   "execution_count": 11,
   "metadata": {},
   "outputs": [
    {
     "data": {
      "text/html": [
       "<div>\n",
       "<style scoped>\n",
       "    .dataframe tbody tr th:only-of-type {\n",
       "        vertical-align: middle;\n",
       "    }\n",
       "\n",
       "    .dataframe tbody tr th {\n",
       "        vertical-align: top;\n",
       "    }\n",
       "\n",
       "    .dataframe thead th {\n",
       "        text-align: right;\n",
       "    }\n",
       "</style>\n",
       "<table border=\"1\" class=\"dataframe\">\n",
       "  <thead>\n",
       "    <tr style=\"text-align: right;\">\n",
       "      <th></th>\n",
       "      <th>id</th>\n",
       "      <th>grp</th>\n",
       "    </tr>\n",
       "  </thead>\n",
       "  <tbody>\n",
       "    <tr>\n",
       "      <th>0</th>\n",
       "      <td>1489</td>\n",
       "      <td>B</td>\n",
       "    </tr>\n",
       "    <tr>\n",
       "      <th>1</th>\n",
       "      <td>1627</td>\n",
       "      <td>A</td>\n",
       "    </tr>\n",
       "    <tr>\n",
       "      <th>2</th>\n",
       "      <td>1768</td>\n",
       "      <td>B</td>\n",
       "    </tr>\n",
       "    <tr>\n",
       "      <th>3</th>\n",
       "      <td>1783</td>\n",
       "      <td>B</td>\n",
       "    </tr>\n",
       "    <tr>\n",
       "      <th>4</th>\n",
       "      <td>1794</td>\n",
       "      <td>A</td>\n",
       "    </tr>\n",
       "  </tbody>\n",
       "</table>\n",
       "</div>"
      ],
      "text/plain": [
       "     id grp\n",
       "0  1489   B\n",
       "1  1627   A\n",
       "2  1768   B\n",
       "3  1783   B\n",
       "4  1794   A"
      ]
     },
     "execution_count": 11,
     "metadata": {},
     "output_type": "execute_result"
    }
   ],
   "source": [
    "# Принадлежность пользователя к контрольной или экспериментальной группе (А – контроль, B – целевая группа) \n",
    "groups = pd.read_csv('/mnt/HC_Volume_18315164/home-jupyter/jupyter-egor-naberezhnov-e-a013a/final_project/data/groups.csv', sep=';')\n",
    "groups.head() "
   ]
  },
  {
   "cell_type": "code",
   "execution_count": 12,
   "metadata": {},
   "outputs": [
    {
     "data": {
      "text/html": [
       "<div>\n",
       "<style scoped>\n",
       "    .dataframe tbody tr th:only-of-type {\n",
       "        vertical-align: middle;\n",
       "    }\n",
       "\n",
       "    .dataframe tbody tr th {\n",
       "        vertical-align: top;\n",
       "    }\n",
       "\n",
       "    .dataframe thead th {\n",
       "        text-align: right;\n",
       "    }\n",
       "</style>\n",
       "<table border=\"1\" class=\"dataframe\">\n",
       "  <thead>\n",
       "    <tr style=\"text-align: right;\">\n",
       "      <th></th>\n",
       "      <th>id</th>\n",
       "      <th>grp</th>\n",
       "    </tr>\n",
       "  </thead>\n",
       "  <tbody>\n",
       "    <tr>\n",
       "      <th>0</th>\n",
       "      <td>5694584</td>\n",
       "      <td>B</td>\n",
       "    </tr>\n",
       "    <tr>\n",
       "      <th>1</th>\n",
       "      <td>5694830</td>\n",
       "      <td>B</td>\n",
       "    </tr>\n",
       "    <tr>\n",
       "      <th>2</th>\n",
       "      <td>5695057</td>\n",
       "      <td>B</td>\n",
       "    </tr>\n",
       "    <tr>\n",
       "      <th>3</th>\n",
       "      <td>5698872</td>\n",
       "      <td>B</td>\n",
       "    </tr>\n",
       "    <tr>\n",
       "      <th>4</th>\n",
       "      <td>5699067</td>\n",
       "      <td>B</td>\n",
       "    </tr>\n",
       "  </tbody>\n",
       "</table>\n",
       "</div>"
      ],
      "text/plain": [
       "        id grp\n",
       "0  5694584   B\n",
       "1  5694830   B\n",
       "2  5695057   B\n",
       "3  5698872   B\n",
       "4  5699067   B"
      ]
     },
     "execution_count": 12,
     "metadata": {},
     "output_type": "execute_result"
    }
   ],
   "source": [
    "# Пользователи, которых прислали спустя 2 дня после передачи данных 'groups'\n",
    "group_add = pd.read_csv('/mnt/HC_Volume_18315164/home-jupyter/jupyter-egor-naberezhnov-e-a013a/final_project/data/group_add.csv', sep=',')\n",
    "group_add.head()"
   ]
  },
  {
   "cell_type": "code",
   "execution_count": 13,
   "metadata": {},
   "outputs": [
    {
     "data": {
      "text/html": [
       "<div>\n",
       "<style scoped>\n",
       "    .dataframe tbody tr th:only-of-type {\n",
       "        vertical-align: middle;\n",
       "    }\n",
       "\n",
       "    .dataframe tbody tr th {\n",
       "        vertical-align: top;\n",
       "    }\n",
       "\n",
       "    .dataframe thead th {\n",
       "        text-align: right;\n",
       "    }\n",
       "</style>\n",
       "<table border=\"1\" class=\"dataframe\">\n",
       "  <thead>\n",
       "    <tr style=\"text-align: right;\">\n",
       "      <th></th>\n",
       "      <th>student_id</th>\n",
       "      <th>active</th>\n",
       "    </tr>\n",
       "  </thead>\n",
       "  <tbody>\n",
       "    <tr>\n",
       "      <th>0</th>\n",
       "      <td>581585</td>\n",
       "      <td>active</td>\n",
       "    </tr>\n",
       "    <tr>\n",
       "      <th>1</th>\n",
       "      <td>5723133</td>\n",
       "      <td>active</td>\n",
       "    </tr>\n",
       "    <tr>\n",
       "      <th>2</th>\n",
       "      <td>3276743</td>\n",
       "      <td>active</td>\n",
       "    </tr>\n",
       "    <tr>\n",
       "      <th>3</th>\n",
       "      <td>4238589</td>\n",
       "      <td>active</td>\n",
       "    </tr>\n",
       "    <tr>\n",
       "      <th>4</th>\n",
       "      <td>4475369</td>\n",
       "      <td>active</td>\n",
       "    </tr>\n",
       "  </tbody>\n",
       "</table>\n",
       "</div>"
      ],
      "text/plain": [
       "   student_id  active\n",
       "0      581585  active\n",
       "1     5723133  active\n",
       "2     3276743  active\n",
       "3     4238589  active\n",
       "4     4475369  active"
      ]
     },
     "execution_count": 13,
     "metadata": {},
     "output_type": "execute_result"
    }
   ],
   "source": [
    "# Пользователи, которые зашли на платформу в дни проведения эксперимента. \n",
    "active_studs = pd.read_csv('/mnt/HC_Volume_18315164/home-jupyter/jupyter-egor-naberezhnov-e-a013a/final_project/data/active_studs.csv')\n",
    "\n",
    "# Добавляем пометку 'active' для всех пользователей online во время теста\n",
    "active_studs['active'] = 'active'\n",
    "active_studs.head()"
   ]
  },
  {
   "cell_type": "code",
   "execution_count": 14,
   "metadata": {},
   "outputs": [
    {
     "data": {
      "text/html": [
       "<div>\n",
       "<style scoped>\n",
       "    .dataframe tbody tr th:only-of-type {\n",
       "        vertical-align: middle;\n",
       "    }\n",
       "\n",
       "    .dataframe tbody tr th {\n",
       "        vertical-align: top;\n",
       "    }\n",
       "\n",
       "    .dataframe thead th {\n",
       "        text-align: right;\n",
       "    }\n",
       "</style>\n",
       "<table border=\"1\" class=\"dataframe\">\n",
       "  <thead>\n",
       "    <tr style=\"text-align: right;\">\n",
       "      <th></th>\n",
       "      <th>student_id</th>\n",
       "      <th>rev</th>\n",
       "    </tr>\n",
       "  </thead>\n",
       "  <tbody>\n",
       "    <tr>\n",
       "      <th>0</th>\n",
       "      <td>1627</td>\n",
       "      <td>990.0</td>\n",
       "    </tr>\n",
       "    <tr>\n",
       "      <th>1</th>\n",
       "      <td>3185</td>\n",
       "      <td>690.0</td>\n",
       "    </tr>\n",
       "    <tr>\n",
       "      <th>2</th>\n",
       "      <td>25973</td>\n",
       "      <td>690.0</td>\n",
       "    </tr>\n",
       "    <tr>\n",
       "      <th>3</th>\n",
       "      <td>26280</td>\n",
       "      <td>690.0</td>\n",
       "    </tr>\n",
       "    <tr>\n",
       "      <th>4</th>\n",
       "      <td>100300</td>\n",
       "      <td>990.0</td>\n",
       "    </tr>\n",
       "  </tbody>\n",
       "</table>\n",
       "</div>"
      ],
      "text/plain": [
       "   student_id    rev\n",
       "0        1627  990.0\n",
       "1        3185  690.0\n",
       "2       25973  690.0\n",
       "3       26280  690.0\n",
       "4      100300  990.0"
      ]
     },
     "execution_count": 14,
     "metadata": {},
     "output_type": "execute_result"
    }
   ],
   "source": [
    "# Информация об оплатах пользователей в дни проведения эксперимента. \n",
    "checks = pd.read_csv('/mnt/HC_Volume_18315164/home-jupyter/jupyter-egor-naberezhnov-e-a013a/final_project/data/checks.csv', sep=';')\n",
    "checks.head()"
   ]
  },
  {
   "cell_type": "markdown",
   "metadata": {},
   "source": [
    " "
   ]
  },
  {
   "cell_type": "markdown",
   "metadata": {},
   "source": [
    "### Реализуем функцию, при применении которой, данные из group_add будут подтягиваться к основным данным, затем будут расчитаны метрики CR, ARPU, ARPPU"
   ]
  },
  {
   "cell_type": "code",
   "execution_count": 15,
   "metadata": {},
   "outputs": [],
   "source": [
    "def load_new_users_and_refresh_data(URL: str):\n",
    "    \n",
    "    # Загружаем данные\n",
    "    new_data = pd.read_csv(URL, sep=',')\n",
    "    \n",
    "    # Преобразовываем наименование столбцов для конкатинации с test_groups\n",
    "    for column in new_data.columns:\n",
    "        if pd.api.types.is_integer_dtype(new_data[column]):\n",
    "            new_data.rename(columns={column: 'id'}, inplace=True)\n",
    "        elif pd.api.types.is_object_dtype(new_data[column]):\n",
    "            new_data.rename(columns={column: 'grp'}, inplace=True)\n",
    "    \n",
    "    # Делаем общий ДФ из group и принесенных позже group_add\n",
    "    test_all_users_and_groups = pd.concat([groups, new_data], ignore_index=True)\n",
    "    test_all_users_and_groups = test_all_users_and_groups.rename(columns={'id': 'student_id'})\n",
    "\n",
    "    # Объединяем данные, заменяем пустые значения.\n",
    "    test_all_users = (test_all_users_and_groups\n",
    "                                 .merge(active_studs, on='student_id', how='outer')\n",
    "                                 .merge(checks, on='student_id', how='outer')\n",
    "                     )\n",
    "    test_all_users['active'] = test_all_users['active'].fillna('non-active')\n",
    "    test_all_users['rev'] = test_all_users['rev'].fillna(0)\n",
    "    \n",
    "    # Присваеваем статус user, совершившие оплату. 1 - оплатили, 0 - не оплатили.\n",
    "    test_active_users = test_all_users.query(\"active == 'active'\")\n",
    "    test_active_users['paid_users'] = test_active_users['rev'].apply(lambda x: 1 if x > 0 else 0)\n",
    "    \n",
    "    #Готовим данный для рассчета метрик\n",
    "    test_group_stats = (test_active_users\n",
    "                               .groupby('grp', as_index=False)\n",
    "                               .agg(\n",
    "                                    total_users=('active', 'count'),\n",
    "                                    paid_users=('paid_users', 'sum'),\n",
    "                                    revenue=('rev', 'sum')\n",
    "                                   )\n",
    "                        )\n",
    "    \n",
    "    test_group_stats['revenue'] = round(test_group_stats['revenue'],0)\n",
    "    \n",
    "    #Рассчитываем метрики\n",
    "    test_group_stats['CR_to_pay'] = round((test_group_stats.paid_users / test_group_stats.total_users)*100,2)\n",
    "    test_group_stats['ARPU'] = round((test_group_stats.revenue / test_group_stats.total_users),2)\n",
    "    test_group_stats['ARPPU'] = round((test_group_stats.revenue / test_group_stats.paid_users),2)\n",
    "\n",
    "    return test_group_stats"
   ]
  },
  {
   "cell_type": "markdown",
   "metadata": {},
   "source": [
    "Проверка работоспособности функции load_new_users_and_refresh_data. Данные сохраним в test_df."
   ]
  },
  {
   "cell_type": "code",
   "execution_count": 16,
   "metadata": {},
   "outputs": [
    {
     "name": "stderr",
     "output_type": "stream",
     "text": [
      "/opt/tljh/user/lib/python3.7/site-packages/ipykernel_launcher.py:27: SettingWithCopyWarning: \n",
      "A value is trying to be set on a copy of a slice from a DataFrame.\n",
      "Try using .loc[row_indexer,col_indexer] = value instead\n",
      "\n",
      "See the caveats in the documentation: https://pandas.pydata.org/pandas-docs/stable/user_guide/indexing.html#returning-a-view-versus-a-copy\n"
     ]
    },
    {
     "data": {
      "text/html": [
       "<div>\n",
       "<style scoped>\n",
       "    .dataframe tbody tr th:only-of-type {\n",
       "        vertical-align: middle;\n",
       "    }\n",
       "\n",
       "    .dataframe tbody tr th {\n",
       "        vertical-align: top;\n",
       "    }\n",
       "\n",
       "    .dataframe thead th {\n",
       "        text-align: right;\n",
       "    }\n",
       "</style>\n",
       "<table border=\"1\" class=\"dataframe\">\n",
       "  <thead>\n",
       "    <tr style=\"text-align: right;\">\n",
       "      <th></th>\n",
       "      <th>grp</th>\n",
       "      <th>total_users</th>\n",
       "      <th>paid_users</th>\n",
       "      <th>revenue</th>\n",
       "      <th>CR_to_pay</th>\n",
       "      <th>ARPU</th>\n",
       "      <th>ARPPU</th>\n",
       "    </tr>\n",
       "  </thead>\n",
       "  <tbody>\n",
       "    <tr>\n",
       "      <th>0</th>\n",
       "      <td>A</td>\n",
       "      <td>1538</td>\n",
       "      <td>78</td>\n",
       "      <td>72820.0</td>\n",
       "      <td>5.07</td>\n",
       "      <td>47.35</td>\n",
       "      <td>933.59</td>\n",
       "    </tr>\n",
       "    <tr>\n",
       "      <th>1</th>\n",
       "      <td>B</td>\n",
       "      <td>6803</td>\n",
       "      <td>314</td>\n",
       "      <td>394974.0</td>\n",
       "      <td>4.62</td>\n",
       "      <td>58.06</td>\n",
       "      <td>1257.88</td>\n",
       "    </tr>\n",
       "  </tbody>\n",
       "</table>\n",
       "</div>"
      ],
      "text/plain": [
       "  grp  total_users  paid_users   revenue  CR_to_pay   ARPU    ARPPU\n",
       "0   A         1538          78   72820.0       5.07  47.35   933.59\n",
       "1   B         6803         314  394974.0       4.62  58.06  1257.88"
      ]
     },
     "execution_count": 16,
     "metadata": {},
     "output_type": "execute_result"
    }
   ],
   "source": [
    "file_path = '/mnt/HC_Volume_18315164/home-jupyter/jupyter-egor-naberezhnov-e-a013a/final_project/data/group_add.csv'\n",
    "test_df = load_new_users_and_refresh_data(file_path)\n",
    "test_df"
   ]
  },
  {
   "cell_type": "markdown",
   "metadata": {},
   "source": [
    "### Реализуем функцию, которая построит барплот по нужным нам метрикам."
   ]
  },
  {
   "cell_type": "code",
   "execution_count": 17,
   "metadata": {},
   "outputs": [],
   "source": [
    "def plot_metrics_separately(df):\n",
    "    # Устанавливаем базовый размер шрифта\n",
    "    base_fontsize = 14\n",
    "    title_fontsize = int(base_fontsize * 1.2)  # Увеличиваем на 20%\n",
    "    \n",
    "    fig, axes = plt.subplots(1, 3, figsize=(20, 6))\n",
    "    \n",
    "    metrics = ['CR_to_pay', 'ARPU', 'ARPPU']\n",
    "    titles = ['CR to pay, %', 'Average Revenue Per User (ARPU), руб.', \n",
    "             'Average Revenue Per Paying User (ARPPU), руб.']\n",
    "    \n",
    "    for i, (metric, title) in enumerate(zip(metrics, titles)):\n",
    "        # Создаем barplot\n",
    "        sns.barplot(x='grp', y=metric, data=df, \n",
    "                   palette=['skyblue', 'salmon'], \n",
    "                   ax=axes[i])\n",
    "        \n",
    "        # Настройки осей и заголовка с увеличенным шрифтом\n",
    "        axes[i].set_title(title, pad=20, fontsize=title_fontsize)  # Увеличенный шрифт\n",
    "        axes[i].set_ylabel('')\n",
    "        axes[i].set_xlabel('Группа', fontsize=base_fontsize)\n",
    "        \n",
    "        # Убираем все подписи на оси Y\n",
    "        axes[i].set_yticklabels([])\n",
    "        axes[i].set_yticks([])\n",
    "        \n",
    "        # Добавляем значения на столбцы с увеличенным шрифтом\n",
    "        for p in axes[i].patches:\n",
    "            axes[i].annotate(f\"{p.get_height():.1f}\", \n",
    "                           (p.get_x() + p.get_width() / 2., p.get_height()),\n",
    "                           ha='center', va='center', \n",
    "                           xytext=(0, 10), \n",
    "                           textcoords='offset points',\n",
    "                           fontsize=base_fontsize)\n",
    "        \n",
    "        # Увеличиваем верхний отступ графика\n",
    "        axes[i].set_ylim(top=axes[i].get_ylim()[1] * 1.15)\n",
    "    \n",
    "    plt.tight_layout(pad=3.0)\n",
    "    plt.show()"
   ]
  },
  {
   "cell_type": "markdown",
   "metadata": {},
   "source": [
    "Проверка работоспособности функции plot_metrics_separately"
   ]
  },
  {
   "cell_type": "code",
   "execution_count": 18,
   "metadata": {},
   "outputs": [
    {
     "data": {
      "image/png": "[encoded data removed]",
      "text/plain": [
       "<Figure size 1440x432 with 3 Axes>"
      ]
     },
     "metadata": {
      "needs_background": "light"
     },
     "output_type": "display_data"
    }
   ],
   "source": [
    "plot_metrics_separately(test_df)"
   ]
  }
 ],
 "metadata": {
  "kernelspec": {
   "display_name": "Python 3",
   "language": "python",
   "name": "python3"
  },
  "language_info": {
   "codemirror_mode": {
    "name": "ipython",
    "version": 3
   },
   "file_extension": ".py",
   "mimetype": "text/x-python",
   "name": "python",
   "nbconvert_exporter": "python",
   "pygments_lexer": "ipython3",
   "version": "3.7.3"
  }
 },
 "nbformat": 4,
 "nbformat_minor": 4
}

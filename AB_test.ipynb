{
 "cells": [
  {
   "cell_type": "code",
   "execution_count": 136,
   "metadata": {},
   "outputs": [],
   "source": [
    "import pandas as pd\n",
    "import seaborn as sns\n",
    "from matplotlib import pyplot as plt\n",
    "from matplotlib import colors as mcolors\n",
    "import numpy as np\n",
    "from statsmodels.stats.proportion import proportions_ztest\n",
    "from scipy.stats import mannwhitneyu\n"
   ]
  },
  {
   "cell_type": "markdown",
   "metadata": {},
   "source": [
    "# A/B–тестирование\n",
    "Одной из основных задач аналитика в нашей команде является корректное проведение экспериментов.   \n",
    "Для этого мы применяем метод A/B–тестирования.   \n",
    "В ходе тестирования одной гипотезы целевой группе была предложена новая механика оплаты услуг на сайте, у контрольной группы оставалась базовая механика.   \n",
    "Необходимо проанализировать итоги эксперимента и сделать вывод, стоит ли запускать новую механику оплаты на всех пользователей."
   ]
  },
  {
   "cell_type": "markdown",
   "metadata": {},
   "source": [
    "\n",
    "## Гипотеза H0: новая механика оплаты не повлияет на рост выручки (GMV)"
   ]
  },
  {
   "cell_type": "code",
   "execution_count": 137,
   "metadata": {},
   "outputs": [
    {
     "data": {
      "text/html": [
       "<div>\n",
       "<style scoped>\n",
       "    .dataframe tbody tr th:only-of-type {\n",
       "        vertical-align: middle;\n",
       "    }\n",
       "\n",
       "    .dataframe tbody tr th {\n",
       "        vertical-align: top;\n",
       "    }\n",
       "\n",
       "    .dataframe thead th {\n",
       "        text-align: right;\n",
       "    }\n",
       "</style>\n",
       "<table border=\"1\" class=\"dataframe\">\n",
       "  <thead>\n",
       "    <tr style=\"text-align: right;\">\n",
       "      <th></th>\n",
       "      <th>id</th>\n",
       "      <th>grp</th>\n",
       "    </tr>\n",
       "  </thead>\n",
       "  <tbody>\n",
       "    <tr>\n",
       "      <th>0</th>\n",
       "      <td>1489</td>\n",
       "      <td>B</td>\n",
       "    </tr>\n",
       "    <tr>\n",
       "      <th>1</th>\n",
       "      <td>1627</td>\n",
       "      <td>A</td>\n",
       "    </tr>\n",
       "    <tr>\n",
       "      <th>2</th>\n",
       "      <td>1768</td>\n",
       "      <td>B</td>\n",
       "    </tr>\n",
       "    <tr>\n",
       "      <th>3</th>\n",
       "      <td>1783</td>\n",
       "      <td>B</td>\n",
       "    </tr>\n",
       "    <tr>\n",
       "      <th>4</th>\n",
       "      <td>1794</td>\n",
       "      <td>A</td>\n",
       "    </tr>\n",
       "  </tbody>\n",
       "</table>\n",
       "</div>"
      ],
      "text/plain": [
       "     id grp\n",
       "0  1489   B\n",
       "1  1627   A\n",
       "2  1768   B\n",
       "3  1783   B\n",
       "4  1794   A"
      ]
     },
     "execution_count": 137,
     "metadata": {},
     "output_type": "execute_result"
    }
   ],
   "source": [
    "# Принадлежность пользователя к контрольной или экспериментальной группе (А – контроль, B – целевая группа) \n",
    "groups = pd.read_csv('/mnt/HC_Volume_18315164/home-jupyter/jupyter-egor-naberezhnov-e-a013a/final_project/data/groups.csv', sep=';')\n",
    "groups.head() "
   ]
  },
  {
   "cell_type": "code",
   "execution_count": 138,
   "metadata": {},
   "outputs": [
    {
     "data": {
      "text/html": [
       "<div>\n",
       "<style scoped>\n",
       "    .dataframe tbody tr th:only-of-type {\n",
       "        vertical-align: middle;\n",
       "    }\n",
       "\n",
       "    .dataframe tbody tr th {\n",
       "        vertical-align: top;\n",
       "    }\n",
       "\n",
       "    .dataframe thead th {\n",
       "        text-align: right;\n",
       "    }\n",
       "</style>\n",
       "<table border=\"1\" class=\"dataframe\">\n",
       "  <thead>\n",
       "    <tr style=\"text-align: right;\">\n",
       "      <th></th>\n",
       "      <th>id</th>\n",
       "      <th>grp</th>\n",
       "    </tr>\n",
       "  </thead>\n",
       "  <tbody>\n",
       "    <tr>\n",
       "      <th>0</th>\n",
       "      <td>5694584</td>\n",
       "      <td>B</td>\n",
       "    </tr>\n",
       "    <tr>\n",
       "      <th>1</th>\n",
       "      <td>5694830</td>\n",
       "      <td>B</td>\n",
       "    </tr>\n",
       "    <tr>\n",
       "      <th>2</th>\n",
       "      <td>5695057</td>\n",
       "      <td>B</td>\n",
       "    </tr>\n",
       "    <tr>\n",
       "      <th>3</th>\n",
       "      <td>5698872</td>\n",
       "      <td>B</td>\n",
       "    </tr>\n",
       "    <tr>\n",
       "      <th>4</th>\n",
       "      <td>5699067</td>\n",
       "      <td>B</td>\n",
       "    </tr>\n",
       "  </tbody>\n",
       "</table>\n",
       "</div>"
      ],
      "text/plain": [
       "        id grp\n",
       "0  5694584   B\n",
       "1  5694830   B\n",
       "2  5695057   B\n",
       "3  5698872   B\n",
       "4  5699067   B"
      ]
     },
     "execution_count": 138,
     "metadata": {},
     "output_type": "execute_result"
    }
   ],
   "source": [
    "# Пользователи, которых прислали спустя 2 дня после передачи данных 'groups'\n",
    "group_add = pd.read_csv('/mnt/HC_Volume_18315164/home-jupyter/jupyter-egor-naberezhnov-e-a013a/final_project/data/group_add.csv', sep=',')\n",
    "group_add.head()"
   ]
  },
  {
   "cell_type": "code",
   "execution_count": 139,
   "metadata": {},
   "outputs": [
    {
     "data": {
      "text/html": [
       "<div>\n",
       "<style scoped>\n",
       "    .dataframe tbody tr th:only-of-type {\n",
       "        vertical-align: middle;\n",
       "    }\n",
       "\n",
       "    .dataframe tbody tr th {\n",
       "        vertical-align: top;\n",
       "    }\n",
       "\n",
       "    .dataframe thead th {\n",
       "        text-align: right;\n",
       "    }\n",
       "</style>\n",
       "<table border=\"1\" class=\"dataframe\">\n",
       "  <thead>\n",
       "    <tr style=\"text-align: right;\">\n",
       "      <th></th>\n",
       "      <th>student_id</th>\n",
       "      <th>active</th>\n",
       "    </tr>\n",
       "  </thead>\n",
       "  <tbody>\n",
       "    <tr>\n",
       "      <th>0</th>\n",
       "      <td>581585</td>\n",
       "      <td>active</td>\n",
       "    </tr>\n",
       "    <tr>\n",
       "      <th>1</th>\n",
       "      <td>5723133</td>\n",
       "      <td>active</td>\n",
       "    </tr>\n",
       "    <tr>\n",
       "      <th>2</th>\n",
       "      <td>3276743</td>\n",
       "      <td>active</td>\n",
       "    </tr>\n",
       "    <tr>\n",
       "      <th>3</th>\n",
       "      <td>4238589</td>\n",
       "      <td>active</td>\n",
       "    </tr>\n",
       "    <tr>\n",
       "      <th>4</th>\n",
       "      <td>4475369</td>\n",
       "      <td>active</td>\n",
       "    </tr>\n",
       "  </tbody>\n",
       "</table>\n",
       "</div>"
      ],
      "text/plain": [
       "   student_id  active\n",
       "0      581585  active\n",
       "1     5723133  active\n",
       "2     3276743  active\n",
       "3     4238589  active\n",
       "4     4475369  active"
      ]
     },
     "execution_count": 139,
     "metadata": {},
     "output_type": "execute_result"
    }
   ],
   "source": [
    "# Пользователи, которые зашли на платформу в дни проведения эксперимента. \n",
    "active_studs = pd.read_csv('/mnt/HC_Volume_18315164/home-jupyter/jupyter-egor-naberezhnov-e-a013a/final_project/data/active_studs.csv')\n",
    "\n",
    "# Добавляем пометку 'active' для всех пользователей online во время теста\n",
    "active_studs['active'] = 'active'\n",
    "active_studs.head()"
   ]
  },
  {
   "cell_type": "code",
   "execution_count": 140,
   "metadata": {},
   "outputs": [
    {
     "data": {
      "text/html": [
       "<div>\n",
       "<style scoped>\n",
       "    .dataframe tbody tr th:only-of-type {\n",
       "        vertical-align: middle;\n",
       "    }\n",
       "\n",
       "    .dataframe tbody tr th {\n",
       "        vertical-align: top;\n",
       "    }\n",
       "\n",
       "    .dataframe thead th {\n",
       "        text-align: right;\n",
       "    }\n",
       "</style>\n",
       "<table border=\"1\" class=\"dataframe\">\n",
       "  <thead>\n",
       "    <tr style=\"text-align: right;\">\n",
       "      <th></th>\n",
       "      <th>student_id</th>\n",
       "      <th>rev</th>\n",
       "    </tr>\n",
       "  </thead>\n",
       "  <tbody>\n",
       "    <tr>\n",
       "      <th>0</th>\n",
       "      <td>1627</td>\n",
       "      <td>990.0</td>\n",
       "    </tr>\n",
       "    <tr>\n",
       "      <th>1</th>\n",
       "      <td>3185</td>\n",
       "      <td>690.0</td>\n",
       "    </tr>\n",
       "    <tr>\n",
       "      <th>2</th>\n",
       "      <td>25973</td>\n",
       "      <td>690.0</td>\n",
       "    </tr>\n",
       "    <tr>\n",
       "      <th>3</th>\n",
       "      <td>26280</td>\n",
       "      <td>690.0</td>\n",
       "    </tr>\n",
       "    <tr>\n",
       "      <th>4</th>\n",
       "      <td>100300</td>\n",
       "      <td>990.0</td>\n",
       "    </tr>\n",
       "  </tbody>\n",
       "</table>\n",
       "</div>"
      ],
      "text/plain": [
       "   student_id    rev\n",
       "0        1627  990.0\n",
       "1        3185  690.0\n",
       "2       25973  690.0\n",
       "3       26280  690.0\n",
       "4      100300  990.0"
      ]
     },
     "execution_count": 140,
     "metadata": {},
     "output_type": "execute_result"
    }
   ],
   "source": [
    "# Информация об оплатах пользователей в дни проведения эксперимента. \n",
    "checks = pd.read_csv('/mnt/HC_Volume_18315164/home-jupyter/jupyter-egor-naberezhnov-e-a013a/final_project/data/checks.csv', sep=';')\n",
    "checks.head()"
   ]
  },
  {
   "cell_type": "code",
   "execution_count": 141,
   "metadata": {},
   "outputs": [
    {
     "name": "stdout",
     "output_type": "stream",
     "text": [
      "\n",
      "Пропущенные значения в groups:\n",
      "id     0\n",
      "grp    0\n",
      "dtype: int64\n",
      "\n",
      "Пропущенные значения в group_add:\n",
      "id     0\n",
      "grp    0\n",
      "dtype: int64\n",
      "\n",
      "Пропущенные значения в active_studs:\n",
      "student_id    0\n",
      "active        0\n",
      "dtype: int64\n",
      "\n",
      "Пропущенные значения в checks:\n",
      "student_id    0\n",
      "rev           0\n",
      "dtype: int64\n"
     ]
    }
   ],
   "source": [
    "# Проверка на отсутствующие значений\n",
    "datasets = {\n",
    "    'groups': groups,\n",
    "    'group_add': group_add,\n",
    "    'active_studs': active_studs,\n",
    "    'checks': checks\n",
    "}\n",
    "\n",
    "for name, df in datasets.items():\n",
    "    print(f\"\\nПропущенные значения в {name}:\")\n",
    "    print(df.isna().sum())"
   ]
  },
  {
   "cell_type": "code",
   "execution_count": 142,
   "metadata": {},
   "outputs": [
    {
     "data": {
      "text/html": [
       "<div>\n",
       "<style scoped>\n",
       "    .dataframe tbody tr th:only-of-type {\n",
       "        vertical-align: middle;\n",
       "    }\n",
       "\n",
       "    .dataframe tbody tr th {\n",
       "        vertical-align: top;\n",
       "    }\n",
       "\n",
       "    .dataframe thead th {\n",
       "        text-align: right;\n",
       "    }\n",
       "</style>\n",
       "<table border=\"1\" class=\"dataframe\">\n",
       "  <thead>\n",
       "    <tr style=\"text-align: right;\">\n",
       "      <th></th>\n",
       "      <th>student_id</th>\n",
       "      <th>grp</th>\n",
       "      <th>active</th>\n",
       "      <th>rev</th>\n",
       "    </tr>\n",
       "  </thead>\n",
       "  <tbody>\n",
       "    <tr>\n",
       "      <th>0</th>\n",
       "      <td>1489</td>\n",
       "      <td>B</td>\n",
       "      <td>non-active</td>\n",
       "      <td>0.0</td>\n",
       "    </tr>\n",
       "    <tr>\n",
       "      <th>1</th>\n",
       "      <td>1627</td>\n",
       "      <td>A</td>\n",
       "      <td>active</td>\n",
       "      <td>990.0</td>\n",
       "    </tr>\n",
       "    <tr>\n",
       "      <th>2</th>\n",
       "      <td>1768</td>\n",
       "      <td>B</td>\n",
       "      <td>non-active</td>\n",
       "      <td>0.0</td>\n",
       "    </tr>\n",
       "    <tr>\n",
       "      <th>3</th>\n",
       "      <td>1783</td>\n",
       "      <td>B</td>\n",
       "      <td>non-active</td>\n",
       "      <td>0.0</td>\n",
       "    </tr>\n",
       "    <tr>\n",
       "      <th>4</th>\n",
       "      <td>1794</td>\n",
       "      <td>A</td>\n",
       "      <td>non-active</td>\n",
       "      <td>0.0</td>\n",
       "    </tr>\n",
       "  </tbody>\n",
       "</table>\n",
       "</div>"
      ],
      "text/plain": [
       "   student_id grp      active    rev\n",
       "0        1489   B  non-active    0.0\n",
       "1        1627   A      active  990.0\n",
       "2        1768   B  non-active    0.0\n",
       "3        1783   B  non-active    0.0\n",
       "4        1794   A  non-active    0.0"
      ]
     },
     "execution_count": 142,
     "metadata": {},
     "output_type": "execute_result"
    }
   ],
   "source": [
    "# Делаем общий ДФ из group и принесенных позже group_add\n",
    "all_users_and_groups = pd.concat([groups, group_add], ignore_index=True)\n",
    "all_users_and_groups = all_users_and_groups.rename(columns={'id': 'student_id'})\n",
    "\n",
    "# Объединяем данные, заменяем пустые значения.\n",
    "all_users = (all_users_and_groups.merge(active_studs, on='student_id', how='outer')\n",
    "                                 .merge(checks, on='student_id', how='outer'))\n",
    "all_users['active'] = all_users['active'].fillna('non-active')\n",
    "all_users['rev'] = all_users['rev'].fillna(0)\n",
    "\n",
    "all_users.head()"
   ]
  },
  {
   "cell_type": "markdown",
   "metadata": {},
   "source": [
    "Сравним количество user в обеих группах, в том числе активных."
   ]
  },
  {
   "cell_type": "code",
   "execution_count": 143,
   "metadata": {},
   "outputs": [
    {
     "name": "stdout",
     "output_type": "stream",
     "text": [
      "Большая разница в размере выборок групп A и B\n",
      "\n",
      "Размер выборки контрольной группы A = 14693 человек\n",
      "Активная аудитория контрольной группы A = 1538 человек. Ее доля составляет 10.47%\n",
      "\n",
      "Размер выборки контрольной группы B = 59883 человек\n",
      "Активная аудитория контрольной группы B = 6803 человек. Ее доля составляет 11.36%\n"
     ]
    }
   ],
   "source": [
    "grA_count = all_users.query(\"grp == 'A'\").student_id.nunique()\n",
    "grA_count_active = all_users.query(\"grp == 'A' & active == 'active'\").student_id.nunique()\n",
    "\n",
    "grB_count = all_users.query(\"grp == 'B'\").student_id.nunique()\n",
    "grB_count_active = all_users.query(\"grp == 'B' & active == 'active'\").student_id.nunique()\n",
    "\n",
    "# Процент активных пользователей Activity Rate (AR) от общего количества по группам\n",
    "AR_grA = round((grA_count_active / grA_count) * 100,2)\n",
    "AR_grB = round((grB_count_active / grB_count) * 100,2)\n",
    "\n",
    "print(f\"Большая разница в размере выборок групп A и B\")\n",
    "print(f\"\\nРазмер выборки контрольной группы A = {grA_count} человек\")\n",
    "print(f\"Активная аудитория контрольной группы A = {grA_count_active} человек. Ее доля составляет {AR_grA}%\")\n",
    "\n",
    "print(f\"\\nРазмер выборки контрольной группы B = {grB_count} человек\")\n",
    "print(f\"Активная аудитория контрольной группы B = {grB_count_active} человек. Ее доля составляет {AR_grB}%\")"
   ]
  },
  {
   "cell_type": "markdown",
   "metadata": {},
   "source": [
    "  "
   ]
  },
  {
   "cell_type": "markdown",
   "metadata": {},
   "source": [
    "Посмотрим на разницу визуально"
   ]
  },
  {
   "cell_type": "code",
   "execution_count": 144,
   "metadata": {},
   "outputs": [
    {
     "data": {
      "image/png": "[encoded data removed]",
      "text/plain": [
       "<Figure size 720x432 with 1 Axes>"
      ]
     },
     "metadata": {},
     "output_type": "display_data"
    }
   ],
   "source": [
    "# Создаем данные для графика\n",
    "plot_data = pd.DataFrame({\n",
    "    'Group': ['Контрольная', 'Контрольная', 'Экспериментальная', 'Экспериментальная'],\n",
    "    'Type': ['Всего пользователей', 'Активных пользователей', 'Всего пользователей', 'Активных пользователей'],\n",
    "    'Count': [\n",
    "        grA_count,  # Всего в группе A\n",
    "        grA_count_active,  # Активных в A\n",
    "        grB_count,  # Всего в группе B\n",
    "        grB_count_active  # Активных в B\n",
    "    ]\n",
    "})\n",
    "\n",
    "# Создаем барплот\n",
    "plt.figure(figsize=(10, 6))\n",
    "sns.barplot(x='Group', y='Count', hue='Type', data=plot_data, palette=['skyblue', 'salmon'])\n",
    "\n",
    "plt.title('Распределение пользователей по группам A/B')\n",
    "plt.ylabel('Количество пользователей')\n",
    "plt.xlabel('Группа')\n",
    "plt.legend(title='Тип пользователя')\n",
    "\n",
    "# Добавляем подписи значений\n",
    "for p in plt.gca().patches:\n",
    "    plt.gca().annotate(f'{int(p.get_height())}', \n",
    "                      (p.get_x() + p.get_width() / 2., p.get_height()), \n",
    "                      ha='center', va='center', \n",
    "                      xytext=(0, 5), \n",
    "                      textcoords='offset points')\n",
    "\n",
    "plt.show()"
   ]
  },
  {
   "cell_type": "markdown",
   "metadata": {},
   "source": [
    " "
   ]
  },
  {
   "cell_type": "markdown",
   "metadata": {},
   "source": [
    "Готовим данные для расчета метрик"
   ]
  },
  {
   "cell_type": "code",
   "execution_count": 145,
   "metadata": {},
   "outputs": [
    {
     "name": "stderr",
     "output_type": "stream",
     "text": [
      "/opt/tljh/user/lib/python3.7/site-packages/ipykernel_launcher.py:3: SettingWithCopyWarning: \n",
      "A value is trying to be set on a copy of a slice from a DataFrame.\n",
      "Try using .loc[row_indexer,col_indexer] = value instead\n",
      "\n",
      "See the caveats in the documentation: https://pandas.pydata.org/pandas-docs/stable/user_guide/indexing.html#returning-a-view-versus-a-copy\n",
      "  This is separate from the ipykernel package so we can avoid doing imports until\n"
     ]
    }
   ],
   "source": [
    "# Присваеваем статус user, совершившие оплату. 1 - оплатили, 0 - не оплатили.\n",
    "active_users = all_users.query(\"active == 'active'\")\n",
    "active_users['paid_users'] = active_users['rev'].apply(lambda x: 1 if x > 0 else 0)\n",
    "\n",
    "group_stats = (active_users\n",
    "               .groupby('grp', as_index=False)\n",
    "               .agg(\n",
    "                   total_users=('active', 'count'),\n",
    "                   paid_users=('paid_users', 'sum'),\n",
    "                   revenue=('rev', 'sum')\n",
    "               )\n",
    "              )\n",
    "\n",
    "group_stats['revenue'] = round(group_stats['revenue'],0)"
   ]
  },
  {
   "cell_type": "markdown",
   "metadata": {},
   "source": [
    "Считаем метрики"
   ]
  },
  {
   "cell_type": "code",
   "execution_count": 146,
   "metadata": {},
   "outputs": [
    {
     "data": {
      "text/html": [
       "<div>\n",
       "<style scoped>\n",
       "    .dataframe tbody tr th:only-of-type {\n",
       "        vertical-align: middle;\n",
       "    }\n",
       "\n",
       "    .dataframe tbody tr th {\n",
       "        vertical-align: top;\n",
       "    }\n",
       "\n",
       "    .dataframe thead th {\n",
       "        text-align: right;\n",
       "    }\n",
       "</style>\n",
       "<table border=\"1\" class=\"dataframe\">\n",
       "  <thead>\n",
       "    <tr style=\"text-align: right;\">\n",
       "      <th></th>\n",
       "      <th>grp</th>\n",
       "      <th>total_users</th>\n",
       "      <th>paid_users</th>\n",
       "      <th>revenue</th>\n",
       "      <th>CR_to_pay</th>\n",
       "      <th>ARPU</th>\n",
       "      <th>ARPPU</th>\n",
       "    </tr>\n",
       "  </thead>\n",
       "  <tbody>\n",
       "    <tr>\n",
       "      <th>0</th>\n",
       "      <td>A</td>\n",
       "      <td>1538</td>\n",
       "      <td>78</td>\n",
       "      <td>72820.0</td>\n",
       "      <td>5.07</td>\n",
       "      <td>47.35</td>\n",
       "      <td>933.59</td>\n",
       "    </tr>\n",
       "    <tr>\n",
       "      <th>1</th>\n",
       "      <td>B</td>\n",
       "      <td>6803</td>\n",
       "      <td>314</td>\n",
       "      <td>394974.0</td>\n",
       "      <td>4.62</td>\n",
       "      <td>58.06</td>\n",
       "      <td>1257.88</td>\n",
       "    </tr>\n",
       "  </tbody>\n",
       "</table>\n",
       "</div>"
      ],
      "text/plain": [
       "  grp  total_users  paid_users   revenue  CR_to_pay   ARPU    ARPPU\n",
       "0   A         1538          78   72820.0       5.07  47.35   933.59\n",
       "1   B         6803         314  394974.0       4.62  58.06  1257.88"
      ]
     },
     "execution_count": 146,
     "metadata": {},
     "output_type": "execute_result"
    }
   ],
   "source": [
    "group_stats['CR_to_pay'] = round((group_stats.paid_users / group_stats.total_users)*100,2)\n",
    "group_stats['ARPU'] = round((group_stats.revenue / group_stats.total_users),2)\n",
    "group_stats['ARPPU'] = round((group_stats.revenue / group_stats.paid_users),2)\n",
    "group_stats\n"
   ]
  },
  {
   "cell_type": "markdown",
   "metadata": {},
   "source": [
    " "
   ]
  },
  {
   "cell_type": "markdown",
   "metadata": {},
   "source": [
    " "
   ]
  },
  {
   "cell_type": "markdown",
   "metadata": {},
   "source": [
    "Проверяем распределения на нормальность.  \n",
    "Возьмем чистые данные по выручке и логарифмированные."
   ]
  },
  {
   "cell_type": "code",
   "execution_count": 147,
   "metadata": {},
   "outputs": [],
   "source": [
    "gr_a = active_users.query(\"paid_users == 1 & grp == 'A'\").rev\n",
    "gr_b = active_users.query(\"paid_users == 1 & grp == 'B'\").rev\n",
    "\n",
    "# Логарифмирование с обработкой нулей\n",
    "log_revenue_a = np.log1p(gr_a)\n",
    "log_revenue_b = np.log1p(gr_b)"
   ]
  },
  {
   "cell_type": "code",
   "execution_count": 148,
   "metadata": {},
   "outputs": [
    {
     "data": {
      "image/png": "[encoded data removed]",
      "text/plain": [
       "<Figure size 864x720 with 4 Axes>"
      ]
     },
     "metadata": {},
     "output_type": "display_data"
    }
   ],
   "source": [
    "fig, axes = plt.subplots(2, 2, figsize=(12, 10))\n",
    "\n",
    "# До преобразования\n",
    "sns.histplot(gr_a, ax=axes[0, 0], kde=True, color='skyblue')\n",
    "axes[0, 0].set_title('Группа A (исходные данные)')\n",
    "sns.histplot(gr_b, ax=axes[0, 1], kde=True, color='salmon')\n",
    "axes[0, 1].set_title('Группа B (исходные данные)')\n",
    "\n",
    "# После преобразования\n",
    "sns.histplot(log_revenue_a, ax=axes[1, 0], kde=True, color='skyblue')\n",
    "axes[1, 0].set_title('Группа A (логарифмированные)')\n",
    "sns.histplot(log_revenue_b, ax=axes[1, 1], kde=True, color='salmon')\n",
    "axes[1, 1].set_title('Группа B (логарифмированные)')\n",
    "\n",
    "plt.tight_layout()\n",
    "plt.show()"
   ]
  },
  {
   "cell_type": "code",
   "execution_count": 149,
   "metadata": {},
   "outputs": [
    {
     "name": "stdout",
     "output_type": "stream",
     "text": [
      "Нормальность: Group A (p=0.000), Group B (p=0.000)\n"
     ]
    }
   ],
   "source": [
    "from scipy.stats import shapiro\n",
    "\n",
    "_, p_a = shapiro(gr_a)\n",
    "_, p_b = shapiro(gr_b)\n",
    "print(f\"Нормальность: Group A (p={p_a:.3f}), Group B (p={p_b:.3f})\")"
   ]
  },
  {
   "cell_type": "markdown",
   "metadata": {},
   "source": [
    "По визуальным данным и с помощью Shapiro-Wilk убедились, что обе группы платящих пользователей имеют ненормальное распределение. Соответветственно используем: z-test, Мана-Уитни и/или bootstrap.\n",
    "\n"
   ]
  },
  {
   "cell_type": "markdown",
   "metadata": {},
   "source": [
    " "
   ]
  },
  {
   "cell_type": "markdown",
   "metadata": {},
   "source": [
    "## Для выявления статистически значимых различий между группами A и B будем сравнивать:\n",
    "1. Конверсию в покупку CR_to_pay через сравнение total_users и paid_users по средствам z-test;\n",
    "2. ARPU через сравнение revenue и total_users по средствам теста Манна-Уитни;\n",
    "3. ARPPU через сравнение revenue и paid_users по средствам теста Манна-Уитни.\n"
   ]
  },
  {
   "cell_type": "markdown",
   "metadata": {},
   "source": [
    "## 1. Z-Test (CR_to_pay) \n",
    "Группа A: 78 оплат из 1538 пользователей (CR = 5.07%).  \n",
    "Группа B: 314 оплат из 6803 пользователей (CR = 4.62%).\n",
    "\n",
    "H0: Новый способ оплаты не повысит конверсию в группе B.  \n",
    "H1: Новый способ оплаты повысит конверсию в группе B."
   ]
  },
  {
   "cell_type": "code",
   "execution_count": 150,
   "metadata": {},
   "outputs": [
    {
     "name": "stdout",
     "output_type": "stream",
     "text": [
      "Результаты Z-теста: z-статистика = 0.763, \n",
      "p-value = 0.4455 > 0.05 → различия статистически незначимы.\n"
     ]
    }
   ],
   "source": [
    "paid_users = [78, 314]     \n",
    "total_users = [1538, 6803]    \n",
    "\n",
    "z_stat, p_value = proportions_ztest(paid_users, total_users, alternative='two-sided')\n",
    "print(f\"Результаты Z-теста: z-статистика = {z_stat:.3f}, \\np-value = {p_value:.4f} > 0.05 → различия статистически незначимы.\")\n"
   ]
  },
  {
   "cell_type": "markdown",
   "metadata": {},
   "source": [
    "## Заключение z-test по конверсии: \n",
    "Новая механика оплаты (группа B) не показала статистически значимого изменения конверсии по сравнению с контрольной группой A.  \n",
    "Принимаем H0: Новый способ оплаты не повысит конверсию в группе B.\n"
   ]
  },
  {
   "cell_type": "markdown",
   "metadata": {},
   "source": [
    "   "
   ]
  },
  {
   "cell_type": "markdown",
   "metadata": {},
   "source": [
    "## 2. ARPU между группами:\n",
    "Группа A: 47.35  \n",
    "Группа B: 58.06\n",
    "\n",
    "H0: Новый способ оплаты не повысит ARPU в группе B.  \n",
    "H1: Новый способ оплаты повысит ARPU в группе B.\n",
    "\n"
   ]
  },
  {
   "cell_type": "code",
   "execution_count": 151,
   "metadata": {},
   "outputs": [
    {
     "name": "stdout",
     "output_type": "stream",
     "text": [
      "Результаты теста: U-статистика = 5252113.0, p-value = 0.5100 > 0.05 → различия статистически незначимы.\n"
     ]
    }
   ],
   "source": [
    "gr_a_total = active_users.query(\"grp == 'A'\").rev\n",
    "gr_b_total = active_users.query(\"grp == 'B'\").rev\n",
    "\n",
    "stat, p_value = mannwhitneyu(gr_a_total, gr_b_total, alternative='two-sided')\n",
    "\n",
    "print(f\"Результаты теста: U-статистика = {stat:.1f}, p-value = {p_value:.4f} > 0.05 → различия статистически незначимы.\")\n"
   ]
  },
  {
   "cell_type": "markdown",
   "metadata": {},
   "source": [
    "## Заключение теста Манна-Уитни по ARPU:   \n",
    "Новая механика оплаты (группа B) не показала статистически значимого изменения ARPU по сравнению с контрольной группой A.   \n",
    "При этом есть видимая удельная разница между группами в 18,45%, которая могла бы быть обусловлена критическими выбросами в группе B.  \n",
    "Принимаем H0: Новый способ оплаты не повысит ARPU в группе B."
   ]
  },
  {
   "cell_type": "markdown",
   "metadata": {},
   "source": [
    " "
   ]
  },
  {
   "cell_type": "markdown",
   "metadata": {},
   "source": [
    "## Попробуем сравнить доверительные интервалы средних с помощью бутстрапа"
   ]
  },
  {
   "cell_type": "code",
   "execution_count": 152,
   "metadata": {},
   "outputs": [
    {
     "data": {
      "image/png": "[encoded data removed]",
      "text/plain": [
       "<Figure size 1080x288 with 2 Axes>"
      ]
     },
     "metadata": {},
     "output_type": "display_data"
    }
   ],
   "source": [
    "import pingouin as pg\n",
    "\n",
    "# Расчёт ДИ для средних 2 групп\n",
    "ci_mean_grA = pg.compute_bootci(gr_a_total, func=np.mean, confidence=0.95, n_boot=10000, return_dist=True)\n",
    "ci_mean_grB = pg.compute_bootci(gr_b_total, func=np.mean, confidence=0.95, n_boot=10000, return_dist=True)\n",
    "\n",
    "# Визуализация распределения бутстреп-статистик\n",
    "fig, axes = plt.subplots(1, 2, figsize=(15, 4))\n",
    "titles = ['Среднее группы А', 'Среднее группы B']\n",
    "cis = [ci_mean_grA, ci_mean_grB]\n",
    "\n",
    "for ax, title, (ci, dist) in zip(axes, titles, cis):\n",
    "    sns.histplot(dist, ax=ax, kde=True)\n",
    "    ax.axvline(ci[0], color='red', linestyle='--')\n",
    "    ax.axvline(ci[1], color='red', linestyle='--')\n",
    "    ax.set_title(f\"{title}\\n95% ДИ: [{ci[0]:.2f}, {ci[1]:.2f}]\")\n",
    "\n",
    "plt.tight_layout()\n",
    "plt.show()"
   ]
  },
  {
   "cell_type": "markdown",
   "metadata": {},
   "source": [
    "## Заключение теста бутстрепа по ARPU:   \n",
    "ARPU группы B (95% ДИ: [50.61, 65.43]) статистически незначимо превышает группу A (95% ДИ: [34.05, 63.41])."
   ]
  },
  {
   "cell_type": "markdown",
   "metadata": {},
   "source": [
    " "
   ]
  },
  {
   "cell_type": "markdown",
   "metadata": {},
   "source": [
    "## 3. ARPPU между группами:\n",
    "Группа A: 933.59  \n",
    "Группа B: 1257.88\n",
    "\n",
    "H0: Новый способ оплаты не повысит ARPPU в группе B.  \n",
    "H1: Новый способ оплаты повысит ARPPU в группе B."
   ]
  },
  {
   "cell_type": "code",
   "execution_count": 153,
   "metadata": {},
   "outputs": [
    {
     "name": "stdout",
     "output_type": "stream",
     "text": [
      "Результаты теста: U-статистика = 9001.0, p-value = 0.0003 < 0.05 → различия статистически значимы.\n"
     ]
    }
   ],
   "source": [
    "stat, p_value = mannwhitneyu(gr_a, gr_b, alternative='two-sided')\n",
    "\n",
    "print(f\"Результаты теста: U-статистика = {stat:.1f}, p-value = {p_value:.4f} < 0.05 → различия статистически значимы.\")\n"
   ]
  },
  {
   "cell_type": "markdown",
   "metadata": {},
   "source": [
    "## Заключение теста Манна-Уитни по ARPPU:\n",
    "Новая механика оплаты (группа B) показала статистически значимые изменения ARPPU по сравнению с контрольной группой A.  При этом ARPPU в группе **B** больше на 25%.    \n",
    "Принимаем H1: Новый способ оплаты повысит ARPPU в группе B."
   ]
  },
  {
   "cell_type": "markdown",
   "metadata": {},
   "source": [
    "# Заключение по А/B тестированию\n",
    "В результате выявления статзначимых различий между группами А и B по ARPPU, новую фичу можем раскатывать на всех пользователей.   \n",
    "При этом конверсия в оплату группы B была ниже, чем в группе А. Но данная разница оказалась не статзначимой.\n",
    "\n",
    "Принимаем H1: новая механика оплаты повлияет на рост выручки (GMV)"
   ]
  }
 ],
 "metadata": {
  "kernelspec": {
   "display_name": "Python 3",
   "language": "python",
   "name": "python3"
  },
  "language_info": {
   "codemirror_mode": {
    "name": "ipython",
    "version": 3
   },
   "file_extension": ".py",
   "mimetype": "text/x-python",
   "name": "python",
   "nbconvert_exporter": "python",
   "pygments_lexer": "ipython3",
   "version": "3.7.3"
  }
 },
 "nbformat": 4,
 "nbformat_minor": 4
}

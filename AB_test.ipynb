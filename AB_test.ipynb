{
 "cells": [
  {
   "cell_type": "code",
   "execution_count": 52,
   "metadata": {},
   "outputs": [],
   "source": [
    "import pandas as pd\n",
    "import seaborn as sns\n",
    "from matplotlib import pyplot as plt\n",
    "from matplotlib import colors as mcolors\n",
    "import numpy as np\n",
    "from statsmodels.stats.proportion import proportions_ztest\n",
    "import scipy.stats as stats\n",
    "import pingouin as pg\n"
   ]
  },
  {
   "cell_type": "markdown",
   "metadata": {},
   "source": [
    "# A/B–тестирование\n",
    "Одной из основных задач аналитика в нашей команде является корректное проведение экспериментов.   \n",
    "Для этого мы применяем метод A/B–тестирования.   \n",
    "В ходе тестирования одной гипотезы целевой группе была предложена новая механика оплаты услуг на сайте, у контрольной группы оставалась базовая механика.   \n",
    "Необходимо проанализировать итоги эксперимента и сделать вывод, стоит ли запускать новую механику оплаты на всех пользователей."
   ]
  },
  {
   "cell_type": "markdown",
   "metadata": {},
   "source": [
    "\n",
    "## Гипотеза H0: новая механика оплаты не повлияет на рост выручки (GMV)"
   ]
  },
  {
   "cell_type": "code",
   "execution_count": 32,
   "metadata": {},
   "outputs": [
    {
     "data": {
      "text/html": [
       "<div>\n",
       "<style scoped>\n",
       "    .dataframe tbody tr th:only-of-type {\n",
       "        vertical-align: middle;\n",
       "    }\n",
       "\n",
       "    .dataframe tbody tr th {\n",
       "        vertical-align: top;\n",
       "    }\n",
       "\n",
       "    .dataframe thead th {\n",
       "        text-align: right;\n",
       "    }\n",
       "</style>\n",
       "<table border=\"1\" class=\"dataframe\">\n",
       "  <thead>\n",
       "    <tr style=\"text-align: right;\">\n",
       "      <th></th>\n",
       "      <th>id</th>\n",
       "      <th>grp</th>\n",
       "    </tr>\n",
       "  </thead>\n",
       "  <tbody>\n",
       "    <tr>\n",
       "      <th>0</th>\n",
       "      <td>1489</td>\n",
       "      <td>B</td>\n",
       "    </tr>\n",
       "    <tr>\n",
       "      <th>1</th>\n",
       "      <td>1627</td>\n",
       "      <td>A</td>\n",
       "    </tr>\n",
       "    <tr>\n",
       "      <th>2</th>\n",
       "      <td>1768</td>\n",
       "      <td>B</td>\n",
       "    </tr>\n",
       "    <tr>\n",
       "      <th>3</th>\n",
       "      <td>1783</td>\n",
       "      <td>B</td>\n",
       "    </tr>\n",
       "    <tr>\n",
       "      <th>4</th>\n",
       "      <td>1794</td>\n",
       "      <td>A</td>\n",
       "    </tr>\n",
       "  </tbody>\n",
       "</table>\n",
       "</div>"
      ],
      "text/plain": [
       "     id grp\n",
       "0  1489   B\n",
       "1  1627   A\n",
       "2  1768   B\n",
       "3  1783   B\n",
       "4  1794   A"
      ]
     },
     "execution_count": 32,
     "metadata": {},
     "output_type": "execute_result"
    }
   ],
   "source": [
    "# Принадлежность пользователя к контрольной или экспериментальной группе (А – контроль, B – целевая группа) \n",
    "groups = pd.read_csv('/mnt/HC_Volume_18315164/home-jupyter/jupyter-egor-naberezhnov-e-a013a/final_project/data/groups.csv', sep=';')\n",
    "groups.head() "
   ]
  },
  {
   "cell_type": "code",
   "execution_count": 33,
   "metadata": {},
   "outputs": [
    {
     "data": {
      "text/html": [
       "<div>\n",
       "<style scoped>\n",
       "    .dataframe tbody tr th:only-of-type {\n",
       "        vertical-align: middle;\n",
       "    }\n",
       "\n",
       "    .dataframe tbody tr th {\n",
       "        vertical-align: top;\n",
       "    }\n",
       "\n",
       "    .dataframe thead th {\n",
       "        text-align: right;\n",
       "    }\n",
       "</style>\n",
       "<table border=\"1\" class=\"dataframe\">\n",
       "  <thead>\n",
       "    <tr style=\"text-align: right;\">\n",
       "      <th></th>\n",
       "      <th>id</th>\n",
       "      <th>grp</th>\n",
       "    </tr>\n",
       "  </thead>\n",
       "  <tbody>\n",
       "    <tr>\n",
       "      <th>0</th>\n",
       "      <td>5694584</td>\n",
       "      <td>B</td>\n",
       "    </tr>\n",
       "    <tr>\n",
       "      <th>1</th>\n",
       "      <td>5694830</td>\n",
       "      <td>B</td>\n",
       "    </tr>\n",
       "    <tr>\n",
       "      <th>2</th>\n",
       "      <td>5695057</td>\n",
       "      <td>B</td>\n",
       "    </tr>\n",
       "    <tr>\n",
       "      <th>3</th>\n",
       "      <td>5698872</td>\n",
       "      <td>B</td>\n",
       "    </tr>\n",
       "    <tr>\n",
       "      <th>4</th>\n",
       "      <td>5699067</td>\n",
       "      <td>B</td>\n",
       "    </tr>\n",
       "  </tbody>\n",
       "</table>\n",
       "</div>"
      ],
      "text/plain": [
       "        id grp\n",
       "0  5694584   B\n",
       "1  5694830   B\n",
       "2  5695057   B\n",
       "3  5698872   B\n",
       "4  5699067   B"
      ]
     },
     "execution_count": 33,
     "metadata": {},
     "output_type": "execute_result"
    }
   ],
   "source": [
    "# Пользователи, которых прислали спустя 2 дня после передачи данных 'groups'\n",
    "group_add = pd.read_csv('/mnt/HC_Volume_18315164/home-jupyter/jupyter-egor-naberezhnov-e-a013a/final_project/data/group_add.csv', sep=',')\n",
    "group_add.head()"
   ]
  },
  {
   "cell_type": "code",
   "execution_count": 34,
   "metadata": {},
   "outputs": [
    {
     "data": {
      "text/html": [
       "<div>\n",
       "<style scoped>\n",
       "    .dataframe tbody tr th:only-of-type {\n",
       "        vertical-align: middle;\n",
       "    }\n",
       "\n",
       "    .dataframe tbody tr th {\n",
       "        vertical-align: top;\n",
       "    }\n",
       "\n",
       "    .dataframe thead th {\n",
       "        text-align: right;\n",
       "    }\n",
       "</style>\n",
       "<table border=\"1\" class=\"dataframe\">\n",
       "  <thead>\n",
       "    <tr style=\"text-align: right;\">\n",
       "      <th></th>\n",
       "      <th>student_id</th>\n",
       "      <th>active</th>\n",
       "    </tr>\n",
       "  </thead>\n",
       "  <tbody>\n",
       "    <tr>\n",
       "      <th>0</th>\n",
       "      <td>581585</td>\n",
       "      <td>active</td>\n",
       "    </tr>\n",
       "    <tr>\n",
       "      <th>1</th>\n",
       "      <td>5723133</td>\n",
       "      <td>active</td>\n",
       "    </tr>\n",
       "    <tr>\n",
       "      <th>2</th>\n",
       "      <td>3276743</td>\n",
       "      <td>active</td>\n",
       "    </tr>\n",
       "    <tr>\n",
       "      <th>3</th>\n",
       "      <td>4238589</td>\n",
       "      <td>active</td>\n",
       "    </tr>\n",
       "    <tr>\n",
       "      <th>4</th>\n",
       "      <td>4475369</td>\n",
       "      <td>active</td>\n",
       "    </tr>\n",
       "  </tbody>\n",
       "</table>\n",
       "</div>"
      ],
      "text/plain": [
       "   student_id  active\n",
       "0      581585  active\n",
       "1     5723133  active\n",
       "2     3276743  active\n",
       "3     4238589  active\n",
       "4     4475369  active"
      ]
     },
     "execution_count": 34,
     "metadata": {},
     "output_type": "execute_result"
    }
   ],
   "source": [
    "# Пользователи, которые зашли на платформу в дни проведения эксперимента. \n",
    "active_studs = pd.read_csv('/mnt/HC_Volume_18315164/home-jupyter/jupyter-egor-naberezhnov-e-a013a/final_project/data/active_studs.csv')\n",
    "\n",
    "# Добавляем пометку 'active' для всех пользователей online во время теста\n",
    "active_studs['active'] = 'active'\n",
    "active_studs.head()"
   ]
  },
  {
   "cell_type": "code",
   "execution_count": 35,
   "metadata": {},
   "outputs": [
    {
     "data": {
      "text/html": [
       "<div>\n",
       "<style scoped>\n",
       "    .dataframe tbody tr th:only-of-type {\n",
       "        vertical-align: middle;\n",
       "    }\n",
       "\n",
       "    .dataframe tbody tr th {\n",
       "        vertical-align: top;\n",
       "    }\n",
       "\n",
       "    .dataframe thead th {\n",
       "        text-align: right;\n",
       "    }\n",
       "</style>\n",
       "<table border=\"1\" class=\"dataframe\">\n",
       "  <thead>\n",
       "    <tr style=\"text-align: right;\">\n",
       "      <th></th>\n",
       "      <th>student_id</th>\n",
       "      <th>rev</th>\n",
       "    </tr>\n",
       "  </thead>\n",
       "  <tbody>\n",
       "    <tr>\n",
       "      <th>0</th>\n",
       "      <td>1627</td>\n",
       "      <td>990.0</td>\n",
       "    </tr>\n",
       "    <tr>\n",
       "      <th>1</th>\n",
       "      <td>3185</td>\n",
       "      <td>690.0</td>\n",
       "    </tr>\n",
       "    <tr>\n",
       "      <th>2</th>\n",
       "      <td>25973</td>\n",
       "      <td>690.0</td>\n",
       "    </tr>\n",
       "    <tr>\n",
       "      <th>3</th>\n",
       "      <td>26280</td>\n",
       "      <td>690.0</td>\n",
       "    </tr>\n",
       "    <tr>\n",
       "      <th>4</th>\n",
       "      <td>100300</td>\n",
       "      <td>990.0</td>\n",
       "    </tr>\n",
       "  </tbody>\n",
       "</table>\n",
       "</div>"
      ],
      "text/plain": [
       "   student_id    rev\n",
       "0        1627  990.0\n",
       "1        3185  690.0\n",
       "2       25973  690.0\n",
       "3       26280  690.0\n",
       "4      100300  990.0"
      ]
     },
     "execution_count": 35,
     "metadata": {},
     "output_type": "execute_result"
    }
   ],
   "source": [
    "# Информация об оплатах пользователей в дни проведения эксперимента. \n",
    "checks = pd.read_csv('/mnt/HC_Volume_18315164/home-jupyter/jupyter-egor-naberezhnov-e-a013a/final_project/data/checks.csv', sep=';')\n",
    "checks.head()"
   ]
  },
  {
   "cell_type": "code",
   "execution_count": 36,
   "metadata": {},
   "outputs": [
    {
     "name": "stdout",
     "output_type": "stream",
     "text": [
      "\n",
      "Пропущенные значения в groups:\n",
      "id     0\n",
      "grp    0\n",
      "dtype: int64\n",
      "\n",
      "Пропущенные значения в group_add:\n",
      "id     0\n",
      "grp    0\n",
      "dtype: int64\n",
      "\n",
      "Пропущенные значения в active_studs:\n",
      "student_id    0\n",
      "active        0\n",
      "dtype: int64\n",
      "\n",
      "Пропущенные значения в checks:\n",
      "student_id    0\n",
      "rev           0\n",
      "dtype: int64\n"
     ]
    }
   ],
   "source": [
    "# Проверка на отсутствующие значений\n",
    "datasets = {\n",
    "    'groups': groups,\n",
    "    'group_add': group_add,\n",
    "    'active_studs': active_studs,\n",
    "    'checks': checks\n",
    "}\n",
    "\n",
    "for name, df in datasets.items():\n",
    "    print(f\"\\nПропущенные значения в {name}:\")\n",
    "    print(df.isna().sum())"
   ]
  },
  {
   "cell_type": "code",
   "execution_count": 37,
   "metadata": {},
   "outputs": [
    {
     "data": {
      "text/html": [
       "<div>\n",
       "<style scoped>\n",
       "    .dataframe tbody tr th:only-of-type {\n",
       "        vertical-align: middle;\n",
       "    }\n",
       "\n",
       "    .dataframe tbody tr th {\n",
       "        vertical-align: top;\n",
       "    }\n",
       "\n",
       "    .dataframe thead th {\n",
       "        text-align: right;\n",
       "    }\n",
       "</style>\n",
       "<table border=\"1\" class=\"dataframe\">\n",
       "  <thead>\n",
       "    <tr style=\"text-align: right;\">\n",
       "      <th></th>\n",
       "      <th>student_id</th>\n",
       "      <th>grp</th>\n",
       "      <th>active</th>\n",
       "      <th>rev</th>\n",
       "    </tr>\n",
       "  </thead>\n",
       "  <tbody>\n",
       "    <tr>\n",
       "      <th>0</th>\n",
       "      <td>1489</td>\n",
       "      <td>B</td>\n",
       "      <td>non-active</td>\n",
       "      <td>0.0</td>\n",
       "    </tr>\n",
       "    <tr>\n",
       "      <th>1</th>\n",
       "      <td>1627</td>\n",
       "      <td>A</td>\n",
       "      <td>active</td>\n",
       "      <td>990.0</td>\n",
       "    </tr>\n",
       "    <tr>\n",
       "      <th>2</th>\n",
       "      <td>1768</td>\n",
       "      <td>B</td>\n",
       "      <td>non-active</td>\n",
       "      <td>0.0</td>\n",
       "    </tr>\n",
       "    <tr>\n",
       "      <th>3</th>\n",
       "      <td>1783</td>\n",
       "      <td>B</td>\n",
       "      <td>non-active</td>\n",
       "      <td>0.0</td>\n",
       "    </tr>\n",
       "    <tr>\n",
       "      <th>4</th>\n",
       "      <td>1794</td>\n",
       "      <td>A</td>\n",
       "      <td>non-active</td>\n",
       "      <td>0.0</td>\n",
       "    </tr>\n",
       "  </tbody>\n",
       "</table>\n",
       "</div>"
      ],
      "text/plain": [
       "   student_id grp      active    rev\n",
       "0        1489   B  non-active    0.0\n",
       "1        1627   A      active  990.0\n",
       "2        1768   B  non-active    0.0\n",
       "3        1783   B  non-active    0.0\n",
       "4        1794   A  non-active    0.0"
      ]
     },
     "execution_count": 37,
     "metadata": {},
     "output_type": "execute_result"
    }
   ],
   "source": [
    "# Делаем общий ДФ из group и принесенных позже group_add\n",
    "all_users_and_groups = pd.concat([groups, group_add], ignore_index=True)\n",
    "all_users_and_groups = all_users_and_groups.rename(columns={'id': 'student_id'})\n",
    "\n",
    "# Объединяем данные, заменяем пустые значения.\n",
    "all_users = (all_users_and_groups.merge(active_studs, on='student_id', how='outer')\n",
    "                                 .merge(checks, on='student_id', how='outer'))\n",
    "all_users['active'] = all_users['active'].fillna('non-active')\n",
    "all_users['rev'] = all_users['rev'].fillna(0)\n",
    "\n",
    "all_users.head()"
   ]
  },
  {
   "cell_type": "code",
   "execution_count": 38,
   "metadata": {},
   "outputs": [
    {
     "data": {
      "text/html": [
       "<div>\n",
       "<style scoped>\n",
       "    .dataframe tbody tr th:only-of-type {\n",
       "        vertical-align: middle;\n",
       "    }\n",
       "\n",
       "    .dataframe tbody tr th {\n",
       "        vertical-align: top;\n",
       "    }\n",
       "\n",
       "    .dataframe thead th {\n",
       "        text-align: right;\n",
       "    }\n",
       "</style>\n",
       "<table border=\"1\" class=\"dataframe\">\n",
       "  <thead>\n",
       "    <tr style=\"text-align: right;\">\n",
       "      <th></th>\n",
       "      <th>grp</th>\n",
       "      <th>non_active_paid_users</th>\n",
       "    </tr>\n",
       "  </thead>\n",
       "  <tbody>\n",
       "    <tr>\n",
       "      <th>0</th>\n",
       "      <td>A</td>\n",
       "      <td>29</td>\n",
       "    </tr>\n",
       "    <tr>\n",
       "      <th>1</th>\n",
       "      <td>B</td>\n",
       "      <td>120</td>\n",
       "    </tr>\n",
       "  </tbody>\n",
       "</table>\n",
       "</div>"
      ],
      "text/plain": [
       "  grp  non_active_paid_users\n",
       "0   A                     29\n",
       "1   B                    120"
      ]
     },
     "execution_count": 38,
     "metadata": {},
     "output_type": "execute_result"
    }
   ],
   "source": [
    "# Проверим, есть ли баги, то есть неактивные пользователи, которые оплатили.\n",
    "all_users.query(\"active == 'non-active' & rev > 0.0\") \\\n",
    "         .groupby('grp', as_index=False) \\\n",
    "         .agg(non_active_paid_users=('active', 'count'))"
   ]
  },
  {
   "cell_type": "code",
   "execution_count": 39,
   "metadata": {},
   "outputs": [],
   "source": [
    "# Исправим их статус на активных, чтобы данные были адекватными\n",
    "all_users.loc[all_users['rev'] > 0, 'active'] = 'active'\n"
   ]
  },
  {
   "cell_type": "markdown",
   "metadata": {},
   "source": [
    "Сравним количество user в обеих группах, в том числе активных."
   ]
  },
  {
   "cell_type": "code",
   "execution_count": 40,
   "metadata": {},
   "outputs": [
    {
     "name": "stdout",
     "output_type": "stream",
     "text": [
      "Большая разница в размере выборок групп A и B\n",
      "\n",
      "Размер выборки контрольной группы A = 14693 человек\n",
      "Активная аудитория контрольной группы A = 1567 человек. Ее доля составляет 10.66%\n",
      "\n",
      "Размер выборки контрольной группы B = 59883 человек\n",
      "Активная аудитория контрольной группы B = 6923 человек. Ее доля составляет 11.56%\n"
     ]
    }
   ],
   "source": [
    "grA_count = all_users.query(\"grp == 'A'\").student_id.nunique()\n",
    "grA_count_active = all_users.query(\"grp == 'A' & active == 'active'\").student_id.nunique()\n",
    "\n",
    "grB_count = all_users.query(\"grp == 'B'\").student_id.nunique()\n",
    "grB_count_active = all_users.query(\"grp == 'B' & active == 'active'\").student_id.nunique()\n",
    "\n",
    "# Процент активных пользователей Activity Rate (AR) от общего количества по группам\n",
    "AR_grA = round((grA_count_active / grA_count) * 100,2)\n",
    "AR_grB = round((grB_count_active / grB_count) * 100,2)\n",
    "\n",
    "print(f\"Большая разница в размере выборок групп A и B\")\n",
    "print(f\"\\nРазмер выборки контрольной группы A = {grA_count} человек\")\n",
    "print(f\"Активная аудитория контрольной группы A = {grA_count_active} человек. Ее доля составляет {AR_grA}%\")\n",
    "\n",
    "print(f\"\\nРазмер выборки контрольной группы B = {grB_count} человек\")\n",
    "print(f\"Активная аудитория контрольной группы B = {grB_count_active} человек. Ее доля составляет {AR_grB}%\")"
   ]
  },
  {
   "cell_type": "markdown",
   "metadata": {},
   "source": [
    "  "
   ]
  },
  {
   "cell_type": "markdown",
   "metadata": {},
   "source": [
    "### Посмотрим на разницу визуально"
   ]
  },
  {
   "cell_type": "code",
   "execution_count": 41,
   "metadata": {},
   "outputs": [
    {
     "data": {
      "image/png": "[encoded data removed]",
      "text/plain": [
       "<Figure size 720x432 with 1 Axes>"
      ]
     },
     "metadata": {
      "needs_background": "light"
     },
     "output_type": "display_data"
    }
   ],
   "source": [
    "# Создаем данные для графика\n",
    "plot_data = pd.DataFrame({\n",
    "    'Group': ['Контрольная', 'Контрольная', 'Экспериментальная', 'Экспериментальная'],\n",
    "    'Type': ['Всего пользователей', 'Активных пользователей', 'Всего пользователей', 'Активных пользователей'],\n",
    "    'Count': [\n",
    "        grA_count,  # Всего в группе A\n",
    "        grA_count_active,  # Активных в A\n",
    "        grB_count,  # Всего в группе B\n",
    "        grB_count_active  # Активных в B\n",
    "    ]\n",
    "})\n",
    "\n",
    "# Создаем барплот\n",
    "plt.figure(figsize=(10, 6))\n",
    "sns.barplot(x='Group', y='Count', hue='Type', data=plot_data, palette=['skyblue', 'salmon'])\n",
    "\n",
    "plt.title('Распределение пользователей по группам A/B')\n",
    "plt.ylabel('Количество пользователей')\n",
    "plt.xlabel('Группа')\n",
    "plt.legend(title='Тип пользователя')\n",
    "\n",
    "# Добавляем подписи значений\n",
    "for p in plt.gca().patches:\n",
    "    plt.gca().annotate(f'{int(p.get_height())}', \n",
    "                      (p.get_x() + p.get_width() / 2., p.get_height()), \n",
    "                      ha='center', va='center', \n",
    "                      xytext=(0, 5), \n",
    "                      textcoords='offset points')\n",
    "\n",
    "plt.show()"
   ]
  },
  {
   "cell_type": "markdown",
   "metadata": {},
   "source": [
    " "
   ]
  },
  {
   "cell_type": "markdown",
   "metadata": {},
   "source": [
    "Готовим данные для расчета метрик"
   ]
  },
  {
   "cell_type": "code",
   "execution_count": 42,
   "metadata": {},
   "outputs": [
    {
     "name": "stderr",
     "output_type": "stream",
     "text": [
      "/opt/tljh/user/lib/python3.7/site-packages/ipykernel_launcher.py:3: SettingWithCopyWarning: \n",
      "A value is trying to be set on a copy of a slice from a DataFrame.\n",
      "Try using .loc[row_indexer,col_indexer] = value instead\n",
      "\n",
      "See the caveats in the documentation: https://pandas.pydata.org/pandas-docs/stable/user_guide/indexing.html#returning-a-view-versus-a-copy\n",
      "  This is separate from the ipykernel package so we can avoid doing imports until\n"
     ]
    }
   ],
   "source": [
    "# Присваеваем статус user, совершившие оплату. 1 - оплатили, 0 - не оплатили.\n",
    "active_users = all_users.query(\"active == 'active'\")\n",
    "active_users['paid_users'] = active_users['rev'].apply(lambda x: 1 if x > 0 else 0)\n",
    "\n",
    "group_stats = (active_users\n",
    "               .groupby('grp', as_index=False)\n",
    "               .agg(\n",
    "                   total_users=('active', 'count'),\n",
    "                   paid_users=('paid_users', 'sum'),\n",
    "                   revenue=('rev', 'sum')\n",
    "               )\n",
    "              )\n",
    "\n",
    "group_stats['revenue'] = round(group_stats['revenue'],0)"
   ]
  },
  {
   "cell_type": "markdown",
   "metadata": {},
   "source": [
    "### Считаем метрики"
   ]
  },
  {
   "cell_type": "code",
   "execution_count": 43,
   "metadata": {},
   "outputs": [
    {
     "data": {
      "text/html": [
       "<div>\n",
       "<style scoped>\n",
       "    .dataframe tbody tr th:only-of-type {\n",
       "        vertical-align: middle;\n",
       "    }\n",
       "\n",
       "    .dataframe tbody tr th {\n",
       "        vertical-align: top;\n",
       "    }\n",
       "\n",
       "    .dataframe thead th {\n",
       "        text-align: right;\n",
       "    }\n",
       "</style>\n",
       "<table border=\"1\" class=\"dataframe\">\n",
       "  <thead>\n",
       "    <tr style=\"text-align: right;\">\n",
       "      <th></th>\n",
       "      <th>grp</th>\n",
       "      <th>total_users</th>\n",
       "      <th>paid_users</th>\n",
       "      <th>revenue</th>\n",
       "      <th>CR_to_pay</th>\n",
       "      <th>ARPU</th>\n",
       "      <th>ARPPU</th>\n",
       "    </tr>\n",
       "  </thead>\n",
       "  <tbody>\n",
       "    <tr>\n",
       "      <th>0</th>\n",
       "      <td>A</td>\n",
       "      <td>1567</td>\n",
       "      <td>107</td>\n",
       "      <td>92096.0</td>\n",
       "      <td>6.83</td>\n",
       "      <td>58.77</td>\n",
       "      <td>860.71</td>\n",
       "    </tr>\n",
       "    <tr>\n",
       "      <th>1</th>\n",
       "      <td>B</td>\n",
       "      <td>6923</td>\n",
       "      <td>434</td>\n",
       "      <td>481230.0</td>\n",
       "      <td>6.27</td>\n",
       "      <td>69.51</td>\n",
       "      <td>1108.82</td>\n",
       "    </tr>\n",
       "  </tbody>\n",
       "</table>\n",
       "</div>"
      ],
      "text/plain": [
       "  grp  total_users  paid_users   revenue  CR_to_pay   ARPU    ARPPU\n",
       "0   A         1567         107   92096.0       6.83  58.77   860.71\n",
       "1   B         6923         434  481230.0       6.27  69.51  1108.82"
      ]
     },
     "execution_count": 43,
     "metadata": {},
     "output_type": "execute_result"
    }
   ],
   "source": [
    "group_stats['CR_to_pay'] = round((group_stats.paid_users / group_stats.total_users)*100,2)\n",
    "group_stats['ARPU'] = round((group_stats.revenue / group_stats.total_users),2)\n",
    "group_stats['ARPPU'] = round((group_stats.revenue / group_stats.paid_users),2)\n",
    "group_stats\n"
   ]
  },
  {
   "cell_type": "markdown",
   "metadata": {},
   "source": [
    " "
   ]
  },
  {
   "cell_type": "markdown",
   "metadata": {},
   "source": [
    " "
   ]
  },
  {
   "cell_type": "markdown",
   "metadata": {},
   "source": [
    "### Для определения подходящего теста необходимо\n",
    "1. Проверить распределения на нормальность. Возьмем чистые данные по выручке и логарифмированные.  \n",
    "2. Проверить дисперсии на равенство.  "
   ]
  },
  {
   "cell_type": "markdown",
   "metadata": {},
   "source": [
    "### Проверка распределений на нормальность"
   ]
  },
  {
   "cell_type": "code",
   "execution_count": 44,
   "metadata": {},
   "outputs": [],
   "source": [
    "gr_a = active_users.query(\"paid_users == 1 & grp == 'A'\").rev\n",
    "gr_b = active_users.query(\"paid_users == 1 & grp == 'B'\").rev\n",
    "\n",
    "# Логарифмирование с обработкой нулей\n",
    "log_revenue_a = np.log1p(gr_a)\n",
    "log_revenue_b = np.log1p(gr_b)"
   ]
  },
  {
   "cell_type": "code",
   "execution_count": 45,
   "metadata": {},
   "outputs": [
    {
     "data": {
      "image/png": "[encoded data removed]",
      "text/plain": [
       "<Figure size 864x720 with 4 Axes>"
      ]
     },
     "metadata": {
      "needs_background": "light"
     },
     "output_type": "display_data"
    }
   ],
   "source": [
    "fig, axes = plt.subplots(2, 2, figsize=(12, 10))\n",
    "\n",
    "# До преобразования\n",
    "sns.histplot(gr_a, ax=axes[0, 0], kde=True, color='skyblue')\n",
    "axes[0, 0].set_title('Группа A (исходные данные)')\n",
    "sns.histplot(gr_b, ax=axes[0, 1], kde=True, color='salmon')\n",
    "axes[0, 1].set_title('Группа B (исходные данные)')\n",
    "\n",
    "# После преобразования\n",
    "sns.histplot(log_revenue_a, ax=axes[1, 0], kde=True, color='skyblue')\n",
    "axes[1, 0].set_title('Группа A (логарифмированные)')\n",
    "sns.histplot(log_revenue_b, ax=axes[1, 1], kde=True, color='salmon')\n",
    "axes[1, 1].set_title('Группа B (логарифмированные)')\n",
    "\n",
    "plt.tight_layout()\n",
    "plt.show()"
   ]
  },
  {
   "cell_type": "code",
   "execution_count": 46,
   "metadata": {},
   "outputs": [
    {
     "name": "stdout",
     "output_type": "stream",
     "text": [
      "Нормальность: Group A (p=0.000), Group B (p=0.000)\n"
     ]
    }
   ],
   "source": [
    "from scipy.stats import shapiro\n",
    "\n",
    "_, p_a = shapiro(gr_a)\n",
    "_, p_b = shapiro(gr_b)\n",
    "print(f\"Нормальность: Group A (p={p_a:.3f}), Group B (p={p_b:.3f})\")\n"
   ]
  },
  {
   "cell_type": "markdown",
   "metadata": {},
   "source": [
    " "
   ]
  },
  {
   "cell_type": "markdown",
   "metadata": {},
   "source": [
    "### Проверка равенства дисперсий"
   ]
  },
  {
   "cell_type": "code",
   "execution_count": 47,
   "metadata": {},
   "outputs": [
    {
     "name": "stdout",
     "output_type": "stream",
     "text": [
      "Статистика теста: 4.479, p-value: 0.035\n",
      "Дисперсии неравны (гетерогенны) → используйте тест Уэлча или непараметрический тест\n"
     ]
    }
   ],
   "source": [
    "# Проверка равенства дисперсий\n",
    "statistic, p_value = stats.levene(gr_a, gr_b)\n",
    "\n",
    "print(f\"Статистика теста: {statistic:.3f}, p-value: {p_value:.3f}\")\n",
    "\n",
    "if p_value > 0.05:\n",
    "    print(\"Дисперсии равны (гомогенны) → можно использовать t-тест\")\n",
    "else:\n",
    "    print(\"Дисперсии неравны (гетерогенны) → используйте тест Уэлча или непараметрический тест\")"
   ]
  },
  {
   "cell_type": "markdown",
   "metadata": {},
   "source": [
    " "
   ]
  },
  {
   "cell_type": "code",
   "execution_count": 48,
   "metadata": {},
   "outputs": [
    {
     "data": {
      "text/html": [
       "<div>\n",
       "<style scoped>\n",
       "    .dataframe tbody tr th:only-of-type {\n",
       "        vertical-align: middle;\n",
       "    }\n",
       "\n",
       "    .dataframe tbody tr th {\n",
       "        vertical-align: top;\n",
       "    }\n",
       "\n",
       "    .dataframe thead th {\n",
       "        text-align: right;\n",
       "    }\n",
       "</style>\n",
       "<table border=\"1\" class=\"dataframe\">\n",
       "  <thead>\n",
       "    <tr style=\"text-align: right;\">\n",
       "      <th></th>\n",
       "      <th>W</th>\n",
       "      <th>pval</th>\n",
       "      <th>equal_var</th>\n",
       "    </tr>\n",
       "  </thead>\n",
       "  <tbody>\n",
       "    <tr>\n",
       "      <th>levene</th>\n",
       "      <td>1.416929</td>\n",
       "      <td>0.233943</td>\n",
       "      <td>True</td>\n",
       "    </tr>\n",
       "  </tbody>\n",
       "</table>\n",
       "</div>"
      ],
      "text/plain": [
       "               W      pval  equal_var\n",
       "levene  1.416929  0.233943       True"
      ]
     },
     "execution_count": 48,
     "metadata": {},
     "output_type": "execute_result"
    }
   ],
   "source": [
    "pg.homoscedasticity(data=active_users, dv=\"rev\", group=\"grp\")"
   ]
  },
  {
   "cell_type": "code",
   "execution_count": 49,
   "metadata": {},
   "outputs": [
    {
     "data": {
      "text/html": [
       "<div>\n",
       "<style scoped>\n",
       "    .dataframe tbody tr th:only-of-type {\n",
       "        vertical-align: middle;\n",
       "    }\n",
       "\n",
       "    .dataframe tbody tr th {\n",
       "        vertical-align: top;\n",
       "    }\n",
       "\n",
       "    .dataframe thead th {\n",
       "        text-align: right;\n",
       "    }\n",
       "</style>\n",
       "<table border=\"1\" class=\"dataframe\">\n",
       "  <thead>\n",
       "    <tr style=\"text-align: right;\">\n",
       "      <th></th>\n",
       "      <th>W</th>\n",
       "      <th>pval</th>\n",
       "      <th>equal_var</th>\n",
       "    </tr>\n",
       "  </thead>\n",
       "  <tbody>\n",
       "    <tr>\n",
       "      <th>levene</th>\n",
       "      <td>4.478901</td>\n",
       "      <td>0.034774</td>\n",
       "      <td>False</td>\n",
       "    </tr>\n",
       "  </tbody>\n",
       "</table>\n",
       "</div>"
      ],
      "text/plain": [
       "               W      pval  equal_var\n",
       "levene  4.478901  0.034774      False"
      ]
     },
     "execution_count": 49,
     "metadata": {},
     "output_type": "execute_result"
    }
   ],
   "source": [
    "pg.homoscedasticity(data=active_users.query(\"paid_users == 1\"), dv=\"rev\", group=\"grp\")"
   ]
  },
  {
   "cell_type": "markdown",
   "metadata": {},
   "source": [
    "### Вывод по проверкам  \n",
    "В результате проверок определил:  \n",
    "- распределения ненормальны;\n",
    "- дисперсии по CR и ARPPU неравны. Дисперсии по ARPU равны.\n",
    "\n",
    "По визуальным данным и с помощью Shapiro-Wilk убедились, что обе группы платящих пользователей имеют ненормальное распределение.\n",
    "\n"
   ]
  },
  {
   "cell_type": "markdown",
   "metadata": {},
   "source": [
    " "
   ]
  },
  {
   "cell_type": "markdown",
   "metadata": {},
   "source": [
    "## Для выявления статистически значимых различий между группами A и B будем сравнивать:\n",
    "1. Конверсию в покупку CR_to_pay через сравнение total_users и paid_users по средствам хи-квадрат;\n",
    "2. ARPU через сравнение revenue и total_users по средствам теста t-test;\n",
    "3. ARPPU через сравнение revenue и paid_users по средствам теста Колмогорова-Смирнова.\n"
   ]
  },
  {
   "cell_type": "code",
   "execution_count": 54,
   "metadata": {},
   "outputs": [
    {
     "data": {
      "text/html": [
       "<div>\n",
       "<style scoped>\n",
       "    .dataframe tbody tr th:only-of-type {\n",
       "        vertical-align: middle;\n",
       "    }\n",
       "\n",
       "    .dataframe tbody tr th {\n",
       "        vertical-align: top;\n",
       "    }\n",
       "\n",
       "    .dataframe thead th {\n",
       "        text-align: right;\n",
       "    }\n",
       "</style>\n",
       "<table border=\"1\" class=\"dataframe\">\n",
       "  <thead>\n",
       "    <tr style=\"text-align: right;\">\n",
       "      <th></th>\n",
       "      <th>student_id</th>\n",
       "      <th>grp</th>\n",
       "      <th>active</th>\n",
       "      <th>rev</th>\n",
       "      <th>paid_users</th>\n",
       "    </tr>\n",
       "  </thead>\n",
       "  <tbody>\n",
       "    <tr>\n",
       "      <th>1</th>\n",
       "      <td>1627</td>\n",
       "      <td>A</td>\n",
       "      <td>active</td>\n",
       "      <td>990.0</td>\n",
       "      <td>1</td>\n",
       "    </tr>\n",
       "    <tr>\n",
       "      <th>10</th>\n",
       "      <td>2085</td>\n",
       "      <td>B</td>\n",
       "      <td>active</td>\n",
       "      <td>0.0</td>\n",
       "      <td>0</td>\n",
       "    </tr>\n",
       "    <tr>\n",
       "      <th>12</th>\n",
       "      <td>2215</td>\n",
       "      <td>B</td>\n",
       "      <td>active</td>\n",
       "      <td>0.0</td>\n",
       "      <td>0</td>\n",
       "    </tr>\n",
       "    <tr>\n",
       "      <th>39</th>\n",
       "      <td>3185</td>\n",
       "      <td>B</td>\n",
       "      <td>active</td>\n",
       "      <td>690.0</td>\n",
       "      <td>1</td>\n",
       "    </tr>\n",
       "    <tr>\n",
       "      <th>43</th>\n",
       "      <td>3391</td>\n",
       "      <td>A</td>\n",
       "      <td>active</td>\n",
       "      <td>0.0</td>\n",
       "      <td>0</td>\n",
       "    </tr>\n",
       "  </tbody>\n",
       "</table>\n",
       "</div>"
      ],
      "text/plain": [
       "    student_id grp  active    rev  paid_users\n",
       "1         1627   A  active  990.0           1\n",
       "10        2085   B  active    0.0           0\n",
       "12        2215   B  active    0.0           0\n",
       "39        3185   B  active  690.0           1\n",
       "43        3391   A  active    0.0           0"
      ]
     },
     "execution_count": 54,
     "metadata": {},
     "output_type": "execute_result"
    }
   ],
   "source": [
    "active_users.head()"
   ]
  },
  {
   "cell_type": "markdown",
   "metadata": {},
   "source": [
    "## 1. Хи-квадрат (CR_to_pay) \n",
    "Группа A: 78 оплат из 1538 пользователей (CR = 5.07%).  \n",
    "Группа B: 314 оплат из 6803 пользователей (CR = 4.62%).\n",
    "\n",
    "H0: Новый способ оплаты не повысит конверсию в группе B.  \n",
    "H1: Новый способ оплаты повысит конверсию в группе B."
   ]
  },
  {
   "cell_type": "code",
   "execution_count": 57,
   "metadata": {},
   "outputs": [
    {
     "data": {
      "text/plain": [
       "(paid_users            0           1\n",
       " grp                                \n",
       " A           1467.147585   99.852415\n",
       " B           6481.852415  441.147585,\n",
       " paid_users       0      1\n",
       " grp                      \n",
       " A           1460.5  106.5\n",
       " B           6488.5  434.5,\n",
       "                  test    lambda      chi2  dof      pval    cramer     power\n",
       " 0             pearson  1.000000  0.579666  1.0  0.446443  0.008263  0.118592\n",
       " 1        cressie-read  0.666667  0.576646  1.0  0.447630  0.008241  0.118225\n",
       " 2      log-likelihood  0.000000  0.570710  1.0  0.449977  0.008199  0.117506\n",
       " 3       freeman-tukey -0.500000  0.566347  1.0  0.451714  0.008167  0.116977\n",
       " 4  mod-log-likelihood -1.000000  0.562060  1.0  0.453432  0.008136  0.116458\n",
       " 5              neyman -2.000000  0.553705  1.0  0.456808  0.008076  0.115446)"
      ]
     },
     "execution_count": 57,
     "metadata": {},
     "output_type": "execute_result"
    }
   ],
   "source": [
    "pg.chi2_independence(active_users, x='grp', y='paid_users')\n"
   ]
  },
  {
   "cell_type": "markdown",
   "metadata": {},
   "source": [
    "## Заключение хи-квадрат теста по конверсии: \n",
    "Новая механика оплаты (группа B) не показала статистически значимого изменения конверсии по сравнению с контрольной группой A, так как p-value 0.446443, что больше 0,05.  \n",
    "Принимаем H0: Новый способ оплаты не повысит конверсию в группе B.\n"
   ]
  },
  {
   "cell_type": "markdown",
   "metadata": {},
   "source": [
    "   "
   ]
  },
  {
   "cell_type": "markdown",
   "metadata": {},
   "source": [
    "## 2. ARPU между группами (t-test):\n",
    "Группа A: 47.35  \n",
    "Группа B: 58.06\n",
    "\n",
    "H0: Новый способ оплаты не повысит ARPU в группе B.  \n",
    "H1: Новый способ оплаты повысит ARPU в группе B.\n",
    "\n"
   ]
  },
  {
   "cell_type": "code",
   "execution_count": 60,
   "metadata": {},
   "outputs": [
    {
     "data": {
      "text/html": [
       "<div>\n",
       "<style scoped>\n",
       "    .dataframe tbody tr th:only-of-type {\n",
       "        vertical-align: middle;\n",
       "    }\n",
       "\n",
       "    .dataframe tbody tr th {\n",
       "        vertical-align: top;\n",
       "    }\n",
       "\n",
       "    .dataframe thead th {\n",
       "        text-align: right;\n",
       "    }\n",
       "</style>\n",
       "<table border=\"1\" class=\"dataframe\">\n",
       "  <thead>\n",
       "    <tr style=\"text-align: right;\">\n",
       "      <th></th>\n",
       "      <th>T</th>\n",
       "      <th>dof</th>\n",
       "      <th>alternative</th>\n",
       "      <th>p-val</th>\n",
       "      <th>CI95%</th>\n",
       "      <th>cohen-d</th>\n",
       "      <th>BF10</th>\n",
       "      <th>power</th>\n",
       "    </tr>\n",
       "  </thead>\n",
       "  <tbody>\n",
       "    <tr>\n",
       "      <th>T-test</th>\n",
       "      <td>-1.246255</td>\n",
       "      <td>2455.34589</td>\n",
       "      <td>two-sided</td>\n",
       "      <td>0.21279</td>\n",
       "      <td>[-27.64, 6.16]</td>\n",
       "      <td>0.0333</td>\n",
       "      <td>0.068</td>\n",
       "      <td>0.22154</td>\n",
       "    </tr>\n",
       "  </tbody>\n",
       "</table>\n",
       "</div>"
      ],
      "text/plain": [
       "               T         dof alternative    p-val           CI95%  cohen-d  \\\n",
       "T-test -1.246255  2455.34589   two-sided  0.21279  [-27.64, 6.16]   0.0333   \n",
       "\n",
       "         BF10    power  \n",
       "T-test  0.068  0.22154  "
      ]
     },
     "execution_count": 60,
     "metadata": {},
     "output_type": "execute_result"
    }
   ],
   "source": [
    "gr_a_total = active_users.query(\"grp == 'A'\").rev\n",
    "gr_b_total = active_users.query(\"grp == 'B'\").rev\n",
    "\n",
    "pg.ttest(gr_a_total, gr_b_total,correction=True)\n"
   ]
  },
  {
   "cell_type": "markdown",
   "metadata": {},
   "source": [
    "## Заключение теста t-test по ARPU:   \n",
    "Новая механика оплаты (группа B) не показала статистически значимого изменения ARPU по сравнению с контрольной группой A.   \n",
    "При этом есть видимая удельная разница между группами в 18,45%, которая могла бы быть обусловлена критическими выбросами в группе B.  \n",
    "Принимаем H0: Новый способ оплаты не повысит ARPU в группе B."
   ]
  },
  {
   "cell_type": "markdown",
   "metadata": {},
   "source": [
    " "
   ]
  },
  {
   "cell_type": "markdown",
   "metadata": {},
   "source": [
    "## 3. ARPPU между группами:\n",
    "Группа A: 933.59\n",
    "Группа B: 1257.88\n",
    "\n",
    "H0: Новый способ оплаты не повысит ARPPU в группе B.  \n",
    "H1: Новый способ оплаты повысит ARPPU в группе B."
   ]
  },
  {
   "cell_type": "code",
   "execution_count": 65,
   "metadata": {},
   "outputs": [
    {
     "name": "stdout",
     "output_type": "stream",
     "text": [
      "KS Statistic: 0.244, p-value: 0.0000535\n"
     ]
    }
   ],
   "source": [
    "statistic, p_value = stats.ks_2samp(gr_a, gr_b)\n",
    "print(f\"KS Statistic: {statistic:.3f}, p-value: {p_value:.7f}\")"
   ]
  },
  {
   "cell_type": "markdown",
   "metadata": {},
   "source": [
    "## Заключение теста Колмогорова-Смирнова по ARPPU:\n",
    "Новая механика оплаты (группа B) показала статистически значимые изменения ARPPU по сравнению с контрольной группой A.  \n",
    "Принимаем H1: Новый способ оплаты повысит ARPPU в группе B."
   ]
  },
  {
   "cell_type": "markdown",
   "metadata": {},
   "source": [
    "# Заключение по А/Б тестированию\n",
    "В результате выявления статзначимых различий между группами А и Б по ARPPU, новую фичу можем раскатывать на всех пользователей.   \n",
    "При этом конверсия в оплату группы B была ниже, чем в группе А. Но данная разница оказалась не статзначимой.\n",
    "\n",
    "Принимаем H1: новая механика оплаты повлияет на рост выручки (GMV)"
   ]
  },
  {
   "cell_type": "markdown",
   "metadata": {},
   "source": [
    " "
   ]
  },
  {
   "cell_type": "markdown",
   "metadata": {},
   "source": [
    " "
   ]
  }
 ],
 "metadata": {
  "kernelspec": {
   "display_name": "Python 3",
   "language": "python",
   "name": "python3"
  },
  "language_info": {
   "codemirror_mode": {
    "name": "ipython",
    "version": 3
   },
   "file_extension": ".py",
   "mimetype": "text/x-python",
   "name": "python",
   "nbconvert_exporter": "python",
   "pygments_lexer": "ipython3",
   "version": "3.7.3"
  }
 },
 "nbformat": 4,
 "nbformat_minor": 4
}
